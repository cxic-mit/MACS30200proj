{
 "cells": [
  {
   "cell_type": "markdown",
   "metadata": {},
   "source": [
    "## Problem Set #4\n",
    "## Discrete approximation of an AR(1) process\n",
    "### Xi Chen"
   ]
  },
  {
   "cell_type": "code",
   "execution_count": 1,
   "metadata": {},
   "outputs": [],
   "source": [
    "import numpy as np\n",
    "import scipy.stats as sts\n",
    "import matplotlib.pyplot as plt\n",
    "import numpy.linalg as LA"
   ]
  },
  {
   "cell_type": "markdown",
   "metadata": {},
   "source": [
    "## Part (a) "
   ]
  },
  {
   "cell_type": "code",
   "execution_count": 2,
   "metadata": {},
   "outputs": [],
   "source": [
    "T = 500\n",
    "sigma = 0.7\n",
    "unif_vec = sts.uniform.rvs(loc=0, scale=1, size=T, random_state=25)\n",
    "eps_vec = sts.norm.ppf(unif_vec, loc=0, scale=sigma)"
   ]
  },
  {
   "cell_type": "code",
   "execution_count": 3,
   "metadata": {},
   "outputs": [],
   "source": [
    "mu= 11.4\n",
    "r = 0.85\n",
    "z = np.zeros(500)"
   ]
  },
  {
   "cell_type": "code",
   "execution_count": 4,
   "metadata": {},
   "outputs": [],
   "source": [
    "for i in range(500):\n",
    "    if i == 0:\n",
    "        z[i] = r*unif_vec[0] + (1-r)*mu + eps_vec[i]\n",
    "    else:\n",
    "        z[i] = r*z[i-1] + (1-r)*mu + eps_vec[i]"
   ]
  },
  {
   "cell_type": "code",
   "execution_count": 12,
   "metadata": {},
   "outputs": [
    {
     "data": {
      "text/plain": [
       "array([  3.23849021,   4.60812198,   5.2164978 ,   5.51887776,\n",
       "         6.24374493,   6.18543692,   7.30476859,   7.80913311,\n",
       "         8.44675432,   8.65202383,   8.89116037,   8.42012593,\n",
       "         8.77389048,   9.31889733,   8.94063031,   9.34590613,\n",
       "         9.33842967,  10.01310826,   9.98214958,  10.88059339,\n",
       "        10.92575602,  11.02585647,  10.8737385 ,  12.92131757,\n",
       "        12.71811919,  12.62439986,  11.16738531,  11.61012107,\n",
       "        11.43907413,  11.32209193,  10.92932058,  11.89810392,\n",
       "        12.13057829,  11.94375158,  11.47441936,  11.50859111,\n",
       "        11.59663594,  12.02894585,  12.59795921,  13.06894091,\n",
       "        11.8213986 ,  12.01822875,  11.57692535,  11.59296933,\n",
       "        12.77429957,  13.4019536 ,  12.72535125,  12.54826745,\n",
       "        11.43187522,  11.68122987,  10.85853018,  11.44887645,\n",
       "        10.44241322,  10.28012835,  10.77520778,  10.88509369,\n",
       "        11.24180585,  11.44672244,  11.84573871,  11.62898043,\n",
       "        11.4110171 ,  12.06395449,  12.35695971,  11.3080389 ,\n",
       "        12.02417885,  11.82633057,  11.53746676,  12.47146708,\n",
       "        12.39478164,  11.77768026,  10.37752655,   9.95726401,\n",
       "        10.33455054,   9.80867553,  10.73471194,  11.36376999,\n",
       "        10.69863247,  11.31412652,  11.02940674,  11.03652538,\n",
       "        10.53876661,  11.61558572,  12.07587711,  12.29516877,\n",
       "        10.74260996,  11.13161382,  10.25214034,  11.09545796,\n",
       "        10.29271312,  10.57662193,  10.04490007,  10.8141346 ,\n",
       "         9.62155546,  10.46744376,  10.95330634,  11.00600147,\n",
       "        10.12030101,  11.38642641,  10.42504268,  10.5175304 ])"
      ]
     },
     "execution_count": 12,
     "metadata": {},
     "output_type": "execute_result"
    }
   ],
   "source": [
    "z[:100]"
   ]
  },
  {
   "cell_type": "code",
   "execution_count": 6,
   "metadata": {},
   "outputs": [
    {
     "data": {
      "image/png": "[encoded data removed]",
      "text/plain": [
       "<matplotlib.figure.Figure at 0x1d71647f320>"
      ]
     },
     "metadata": {},
     "output_type": "display_data"
    }
   ],
   "source": [
    "plt.plot(z[:100])\n",
    "plt.title(\"The first 100 oberservations of the resulting simulated time series for $Z_t$\")\n",
    "plt.xlabel(r'Period $t$')\n",
    "plt.ylabel(r'$Z_t$')\n",
    "plt.show()"
   ]
  },
  {
   "cell_type": "markdown",
   "metadata": {},
   "source": [
    "## Part (b) "
   ]
  },
  {
   "cell_type": "code",
   "execution_count": 7,
   "metadata": {},
   "outputs": [],
   "source": [
    "z_vals = np.linspace(mu-3*sigma, mu+3*sigma, 5)"
   ]
  },
  {
   "cell_type": "code",
   "execution_count": 8,
   "metadata": {},
   "outputs": [
    {
     "data": {
      "text/plain": [
       "11.4"
      ]
     },
     "execution_count": 8,
     "metadata": {},
     "output_type": "execute_result"
    }
   ],
   "source": [
    "z_vals[2]"
   ]
  },
  {
   "cell_type": "code",
   "execution_count": 9,
   "metadata": {},
   "outputs": [
    {
     "name": "stdout",
     "output_type": "stream",
     "text": [
      "z_vals is [  9.3   10.35  11.4   12.45  13.5 ]\n"
     ]
    }
   ],
   "source": [
    "print('z_vals is', z_vals)"
   ]
  },
  {
   "cell_type": "markdown",
   "metadata": {},
   "source": [
    "## Part (c) "
   ]
  },
  {
   "cell_type": "code",
   "execution_count": 10,
   "metadata": {},
   "outputs": [],
   "source": [
    "z_cuts = 0.5 * z_vals[:-1] + 0.5 * z_vals[1:]"
   ]
  },
  {
   "cell_type": "code",
   "execution_count": 11,
   "metadata": {},
   "outputs": [
    {
     "name": "stdout",
     "output_type": "stream",
     "text": [
      "z_cuts is [  9.825  10.875  11.925  12.975]\n"
     ]
    }
   ],
   "source": [
    "print('z_cuts is', z_cuts)"
   ]
  },
  {
   "cell_type": "code",
   "execution_count": 14,
   "metadata": {},
   "outputs": [
    {
     "data": {
      "text/plain": [
       "array([0, 0, 0, 0, 0, 0, 0, 0, 0, 0, 0, 0, 0, 0, 0, 0, 0, 1, 1, 2, 2, 2, 1,\n",
       "       3, 3, 3, 2, 2, 2, 2, 2, 2, 3, 3, 2, 2, 2, 3, 3, 4, 2, 3, 2, 2, 3, 4,\n",
       "       3, 3, 2, 2, 1, 2, 1, 1, 1, 2, 2, 2, 2, 2, 2, 3, 3, 2, 3, 2, 2, 3, 3,\n",
       "       2, 1, 1, 1, 0, 1, 2, 1, 2, 2, 2, 1, 2, 3, 3, 1, 2, 1, 2, 1, 1, 1, 1,\n",
       "       0, 1, 2, 2, 1, 2, 1, 1, 2, 1, 1, 2, 2, 1, 1, 1, 3, 3, 3, 3, 3, 2, 3,\n",
       "       2, 2, 0, 0, 0, 0, 0, 0, 0, 0, 0, 0, 1, 1, 1, 3, 2, 4, 3, 3, 3, 2, 3,\n",
       "       4, 4, 3, 4, 4, 3, 2, 2, 2, 1, 1, 0, 0, 0, 0, 2, 2, 3, 3, 1, 1, 2, 2,\n",
       "       3, 3, 3, 3, 2, 3, 2, 0, 1, 0, 0, 0, 0, 0, 0, 0, 0, 0, 1, 1, 2, 1, 2,\n",
       "       2, 4, 3, 4, 3, 3, 2, 2, 1, 1, 1, 0, 0, 1, 2, 2, 2, 2, 2, 1, 1, 2, 2,\n",
       "       2, 2, 2, 3, 3, 3, 2, 1, 1, 1, 1, 1, 1, 1, 1, 2, 3, 3, 2, 2, 2, 2, 1,\n",
       "       1, 2, 2, 2, 0, 0, 0, 1, 1, 1, 0, 1, 2, 2, 1, 1, 1, 1, 2, 1, 1, 1, 0,\n",
       "       1, 1, 2, 2, 3, 2, 3, 3, 3, 3, 2, 1, 1, 3, 3, 3, 3, 4, 4, 3, 3, 2, 1,\n",
       "       2, 2, 1, 1, 1, 2, 0, 0, 0, 0, 0, 0, 0, 0, 1, 1, 2, 2, 2, 2, 3, 3, 2,\n",
       "       2, 2, 1, 1, 1, 1, 1, 1, 2, 1, 1, 1, 2, 2, 3, 3, 4, 4, 4, 4, 4, 4, 4,\n",
       "       3, 3, 3, 3, 3, 3, 2, 1, 2, 3, 3, 4, 3, 3, 2, 2, 2, 2, 2, 2, 2, 2, 2,\n",
       "       4, 3, 3, 3, 4, 4, 3, 3, 3, 3, 3, 3, 3, 4, 4, 4, 4, 4, 4, 3, 3, 2, 2,\n",
       "       1, 2, 1, 1, 1, 3, 2, 3, 2, 2, 3, 2, 2, 2, 3, 3, 3, 2, 2, 3, 4, 3, 2,\n",
       "       1, 1, 1, 1, 2, 3, 3, 3, 1, 0, 1, 0, 2, 1, 1, 2, 3, 3, 3, 2, 2, 1, 2,\n",
       "       3, 3, 2, 2, 2, 3, 2, 2, 3, 2, 2, 2, 1, 0, 1, 2, 2, 2, 3, 4, 4, 4, 4,\n",
       "       4, 4, 4, 4, 4, 4, 4, 4, 3, 2, 4, 3, 3, 4, 3, 2, 3, 2, 2, 2, 2, 2, 3,\n",
       "       2, 3, 3, 3, 1, 2, 1, 1, 1, 2, 2, 3, 2, 3, 3, 2, 3, 3, 2, 3, 1, 1, 2,\n",
       "       2, 0, 0, 1, 2, 4, 4, 4, 4, 2, 1, 2, 1, 0, 0, 0, 0], dtype=int64)"
      ]
     },
     "execution_count": 14,
     "metadata": {},
     "output_type": "execute_result"
    }
   ],
   "source": [
    "z_bins = np.digitize(z, z_cuts)\n",
    "z_bins"
   ]
  },
  {
   "cell_type": "code",
   "execution_count": 36,
   "metadata": {},
   "outputs": [
    {
     "name": "stdout",
     "output_type": "stream",
     "text": [
      "Markov transition matrix P is: \n",
      " [[ 0.75757576  0.21212121  0.03030303  0.          0.        ]\n",
      " [ 0.1         0.50909091  0.34545455  0.04545455  0.        ]\n",
      " [ 0.03144654  0.22012579  0.48427673  0.2327044   0.03144654]\n",
      " [ 0.          0.04273504  0.34188034  0.5042735   0.11111111]\n",
      " [ 0.          0.          0.04255319  0.34042553  0.61702128]]\n"
     ]
    }
   ],
   "source": [
    "P_hat = np.zeros(shape=(5,5))\n",
    "\n",
    "for i in range(0,5):\n",
    "    for j in range(0,5):\n",
    "        count = 0\n",
    "        denom = 0\n",
    "        for k in range(0,499):\n",
    "            curr = z_bins[k]\n",
    "            nxt = z_bins[k+1]\n",
    "            if curr == i and nxt == j:\n",
    "                count += 1\n",
    "            if curr == i:\n",
    "                denom += 1\n",
    "        P_hat[i][j] = count/denom\n",
    "\n",
    "print(\"Markov transition matrix P is: \\n\", P_hat)"
   ]
  },
  {
   "cell_type": "markdown",
   "metadata": {},
   "source": [
    "## Part (d) "
   ]
  },
  {
   "cell_type": "code",
   "execution_count": 16,
   "metadata": {},
   "outputs": [
    {
     "name": "stdout",
     "output_type": "stream",
     "text": [
      "The probablity is  [ 0.07752374]\n"
     ]
    }
   ],
   "source": [
    "initial_vec = np.array([0, 0, 1, 0, 0]).reshape(5,1)\n",
    "con_prob = LA.matrix_power(P_hat.T, 3) @ initial_vec\n",
    "print(\"The probablity is \", con_prob[4])"
   ]
  },
  {
   "cell_type": "markdown",
   "metadata": {},
   "source": [
    "## Part (e) "
   ]
  },
  {
   "cell_type": "code",
   "execution_count": 18,
   "metadata": {},
   "outputs": [],
   "source": [
    "eigvals, eigvecmat = LA.eig(P_hat.T)"
   ]
  },
  {
   "cell_type": "code",
   "execution_count": 19,
   "metadata": {},
   "outputs": [
    {
     "data": {
      "text/plain": [
       "array([ 0.11107399,  1.        ,  0.36137544,  0.79405964,  0.60572911])"
      ]
     },
     "execution_count": 19,
     "metadata": {},
     "output_type": "execute_result"
    }
   ],
   "source": [
    "eigvals"
   ]
  },
  {
   "cell_type": "code",
   "execution_count": 20,
   "metadata": {},
   "outputs": [
    {
     "data": {
      "text/plain": [
       "array([[-0.0232403 ,  0.27491649,  0.15517844,  0.70799899,  0.41056991],\n",
       "       [ 0.3979737 ,  0.45819415, -0.67034374,  0.31439168, -0.43202375],\n",
       "       [-0.78776471,  0.66229881,  0.17657357, -0.17835405, -0.60869305],\n",
       "       [ 0.46652157,  0.48735196,  0.63730148, -0.49910986,  0.12047379],\n",
       "       [-0.05349027,  0.19577386, -0.29870975, -0.34492677,  0.5096731 ]])"
      ]
     },
     "execution_count": 20,
     "metadata": {},
     "output_type": "execute_result"
    }
   ],
   "source": [
    "eigvecmat"
   ]
  },
  {
   "cell_type": "code",
   "execution_count": 29,
   "metadata": {},
   "outputs": [
    {
     "name": "stdout",
     "output_type": "stream",
     "text": [
      "The stationary (long-run, ergodic) distribution of Z \n",
      "       (which is the eigenvector with the eigenvalue of 1) is: \n",
      " [ 0.13226453  0.22044088  0.31863727  0.23446894  0.09418838]\n"
     ]
    }
   ],
   "source": [
    "eigvec = eigvecmat[:, 1] / eigvecmat[:, 1].sum()\n",
    "stat_dist = eigvec\n",
    "print(\"The stationary (long-run, ergodic) distribution of Z \\n \\\n",
    "      (which is the eigenvector with the eigenvalue of 1) is: \\n\", stat_dist)"
   ]
  },
  {
   "cell_type": "markdown",
   "metadata": {},
   "source": [
    "## Part (f) "
   ]
  },
  {
   "cell_type": "code",
   "execution_count": 30,
   "metadata": {},
   "outputs": [],
   "source": [
    "z0 = z_vals[2]\n",
    "x_vec = np.zeros(T)\n",
    "x_t = z0\n",
    "xt_ind = 1"
   ]
  },
  {
   "cell_type": "code",
   "execution_count": 31,
   "metadata": {},
   "outputs": [],
   "source": [
    "for t_ind in range(T):\n",
    "    xtp1_ind = np.argwhere(unif_vec[t_ind] <= np.cumsum(P_hat[xt_ind, :])).min()\n",
    "    x_tp1 = z_vals[xtp1_ind]\n",
    "    x_vec[t_ind] = x_tp1\n",
    "    x_t = x_tp1\n",
    "    xt_ind = xtp1_ind"
   ]
  },
  {
   "cell_type": "code",
   "execution_count": 38,
   "metadata": {},
   "outputs": [
    {
     "data": {
      "image/png": "[encoded data removed]",
      "text/plain": [
       "<matplotlib.figure.Figure at 0x1d717a3a550>"
      ]
     },
     "metadata": {},
     "output_type": "display_data"
    }
   ],
   "source": [
    "plt.plot(x_vec, color = 'r')\n",
    "plt.plot(z, color = 'c')\n",
    "plt.title('Discretized time series vs. Continuous time series')\n",
    "plt.xlabel(r'Period $t$')\n",
    "plt.ylabel(r'$Z_t$')\n",
    "plt.legend(['Discretized series', 'Continuous series'])\n",
    "plt.show() "
   ]
  }
 ],
 "metadata": {
  "kernelspec": {
   "display_name": "Python 3",
   "language": "python",
   "name": "python3"
  },
  "language_info": {
   "codemirror_mode": {
    "name": "ipython",
    "version": 3
   },
   "file_extension": ".py",
   "mimetype": "text/x-python",
   "name": "python",
   "nbconvert_exporter": "python",
   "pygments_lexer": "ipython3",
   "version": "3.6.5"
  }
 },
 "nbformat": 4,
 "nbformat_minor": 2
}
